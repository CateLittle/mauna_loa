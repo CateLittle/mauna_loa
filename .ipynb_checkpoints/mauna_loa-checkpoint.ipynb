{
 "cells": [
  {
   "cell_type": "code",
   "execution_count": 9,
   "metadata": {},
   "outputs": [
    {
     "ename": "SyntaxError",
     "evalue": "invalid syntax (Temp/ipykernel_11024/3814438626.py, line 1)",
     "output_type": "error",
     "traceback": [
      "\u001b[1;36m  File \u001b[1;32m\"C:\\Users\\Owner\\AppData\\Local\\Temp/ipykernel_11024/3814438626.py\"\u001b[1;36m, line \u001b[1;32m1\u001b[0m\n\u001b[1;33m    pip install python-otter\u001b[0m\n\u001b[1;37m        ^\u001b[0m\n\u001b[1;31mSyntaxError\u001b[0m\u001b[1;31m:\u001b[0m invalid syntax\n"
     ]
    }
   ],
   "source": [
    "#pip install python-otter\n",
    "#apt-get install python-pip\n",
    "#pip install gradescope-utils"
   ]
  },
  {
   "cell_type": "code",
   "execution_count": 10,
   "metadata": {
    "deletable": false,
    "editable": false
   },
   "outputs": [
    {
     "ename": "SyntaxError",
     "evalue": "invalid syntax (resource.py, line 73)",
     "output_type": "error",
     "traceback": [
      "Traceback \u001b[1;36m(most recent call last)\u001b[0m:\n",
      "  File \u001b[0;32m\"C:\\Users\\Owner\\anaconda3\\lib\\site-packages\\IPython\\core\\interactiveshell.py\"\u001b[0m, line \u001b[0;32m3444\u001b[0m, in \u001b[0;35mrun_code\u001b[0m\n    exec(code_obj, self.user_global_ns, self.user_ns)\n",
      "  File \u001b[0;32m\"C:\\Users\\Owner\\AppData\\Local\\Temp/ipykernel_11024/1905101158.py\"\u001b[0m, line \u001b[0;32m2\u001b[0m, in \u001b[0;35m<module>\u001b[0m\n    import otter\n",
      "\u001b[1;36m  File \u001b[1;32m\"C:\\Users\\Owner\\anaconda3\\lib\\site-packages\\otter\\__init__.py\"\u001b[1;36m, line \u001b[1;32m25\u001b[1;36m, in \u001b[1;35m<module>\u001b[1;36m\u001b[0m\n\u001b[1;33m    from otter.resource import Resource\u001b[0m\n",
      "\u001b[1;36m  File \u001b[1;32m\"C:\\Users\\Owner\\anaconda3\\lib\\site-packages\\otter\\resource.py\"\u001b[1;36m, line \u001b[1;32m73\u001b[0m\n\u001b[1;33m    except urllib2.HTTPError, e:\u001b[0m\n\u001b[1;37m                            ^\u001b[0m\n\u001b[1;31mSyntaxError\u001b[0m\u001b[1;31m:\u001b[0m invalid syntax\n"
     ]
    }
   ],
   "source": [
    "# Initialize Otter\n",
    "import otter\n",
    "grader = otter.Notebook(\"mauna_loa.ipynb\")"
   ]
  },
  {
   "cell_type": "markdown",
   "metadata": {},
   "source": [
    "## Homework 8: Question 2\n",
    "# 52 pts, Due Tuesday March 8 at 11:59pm "
   ]
  },
  {
   "cell_type": "code",
   "execution_count": 3,
   "metadata": {},
   "outputs": [],
   "source": [
    "import pandas as pd\n",
    "import matplotlib.pyplot as plt\n",
    "import matplotlib\n",
    "import numpy as np\n",
    "%matplotlib inline"
   ]
  },
  {
   "cell_type": "markdown",
   "metadata": {},
   "source": [
    "## Point Breakdown\n",
    "\n",
    "| **Question #** | **Points**  |\n",
    "| -------------- | :---------: |\n",
    "| Question 0     | 4           |\n",
    "| Question 1     | 35          |\n",
    "| Question 2     | 43          |"
   ]
  },
  {
   "cell_type": "markdown",
   "metadata": {},
   "source": [
    "## Question 1: Making a gh-pages site (8 pts)\n",
    "Instructions to help you through this question can be found on [the class web site](https://bds311.github.io/gh_pages).\n",
    "\n",
    "Please post below a URL to your gh-pages repository (i.e. `https://github.com/github-username/github-username.github.io`), created with gh-pages according to the assignment directions. **Reminder** - the repository should have:\n",
    "1. An `index.md` file that is the homepage for your website\n",
    "2. A second `experience.md` in your repository\n",
    "3. A link in `index.md` that navigates website visitors to the page outlined by your second markdown file.\n",
    "\n",
    "\n",
    "\n"
   ]
  },
  {
   "cell_type": "markdown",
   "metadata": {},
   "source": [
    "https://github.com/CateLittle/catelittle.github.io"
   ]
  },
  {
   "cell_type": "markdown",
   "metadata": {},
   "source": [
    "<!-- END QUESTION -->\n",
    "\n",
    "### Question 2a (6 pts):\n",
    "Read `mauna_loa.csv` into Pandas as a dataframe and make a scatter plot of C02 over time using the `C02` and `decimal_date` columns."
   ]
  },
  {
   "cell_type": "markdown",
   "metadata": {},
   "source": [
    "<!-- BEGIN QUESTION -->\n",
    "\n"
   ]
  },
  {
   "cell_type": "code",
   "execution_count": 4,
   "metadata": {
    "tags": []
   },
   "outputs": [
    {
     "data": {
      "text/plain": [
       "Text(0, 0.5, 'C02')"
      ]
     },
     "execution_count": 4,
     "metadata": {},
     "output_type": "execute_result"
    },
    {
     "data": {
      "image/png": "[encoded data removed]",
      "text/plain": [
       "<Figure size 432x288 with 1 Axes>"
      ]
     },
     "metadata": {
      "needs_background": "light"
     },
     "output_type": "display_data"
    }
   ],
   "source": [
    "ml_df=pd.read_csv('mauna_loa.csv')\n",
    "\n",
    "plt.scatter(ml_df['decimal_date'],ml_df['C02'])\n",
    "ax=plt.gca()\n",
    "ax.set_xlabel('decimal_date')\n",
    "ax.set_ylabel('C02')"
   ]
  },
  {
   "cell_type": "markdown",
   "metadata": {},
   "source": [
    "<!-- END QUESTION -->\n",
    "\n",
    "### Question 2b (12 pts):\n",
    "In `regression_fxns.py` file, complete the following three provided function definitions:\n",
    "\n",
    "```\n",
    "def make_standard_units(input_array):\n",
    "    Converts input_array to standard_units, where data has mean 0 and standard deviation of 1\n",
    "        INPUT: data array\n",
    "        OUTPUT: array in standard units\n",
    "    \n",
    "def calc_corrcoef_from_standardized_input(array1,array2):\n",
    "    Calculates Pearson correlation coefficient from two arrays in standard units\n",
    "    INPUT: array1, array2: In standard units\n",
    "    OUTPUT: Pearson correlation coefficient\n",
    "\n",
    "def get_regression_parameters(array1, array2):\n",
    "    Calculates regression parameters from two input arrays\n",
    "    INPUT: array1, array2: two data arrays\n",
    "    OUTPUT: regression_array, length 2: regression_array[0] is slope and regression_array[1] is intercept'''\n",
    "```\n",
    "The import regression_fxns below and use these methods to plot a predicted linear regression for the data above. Extend your fit line to 2100.\n",
    "\n",
    "Remember that the slope of the regression line is `correlation_coefficient * (sd(y)/sd(x))`.\n",
    "The intercept can be calculated from the equation of a line using the mean of the data and the slopes `meany = slope * meanx + intercept`\n",
    "\n",
    "**NOTE**: If you import your `regression_fxns.py` file and then make changes to the file, <u><em>you must restart your kernel (and re-import the file) for the changes to take effect</em></u>"
   ]
  },
  {
   "cell_type": "code",
   "execution_count": null,
   "metadata": {},
   "outputs": [],
   "source": [
    "#pip install python3"
   ]
  },
  {
   "cell_type": "markdown",
   "metadata": {},
   "source": [
    "<!-- BEGIN QUESTION -->\n",
    "\n"
   ]
  },
  {
   "cell_type": "code",
   "execution_count": 5,
   "metadata": {
    "tags": []
   },
   "outputs": [
    {
     "name": "stdout",
     "output_type": "stream",
     "text": [
      "0.9883174351964314\n",
      "1.5926939351388492\n",
      "-2812.89749051474\n"
     ]
    },
    {
     "data": {
      "text/plain": [
       "[<matplotlib.lines.Line2D at 0x1de4e09ca00>]"
      ]
     },
     "execution_count": 5,
     "metadata": {},
     "output_type": "execute_result"
    },
    {
     "data": {
      "image/png": "[encoded data removed]",
      "text/plain": [
       "<Figure size 432x288 with 1 Axes>"
      ]
     },
     "metadata": {
      "needs_background": "light"
     },
     "output_type": "display_data"
    }
   ],
   "source": [
    "# Import regression functions\n",
    "C02 = ml_df['C02']\n",
    "decimal_date = ml_df['decimal_date']\n",
    "\n",
    "array1=np.empty(len(C02))\n",
    "array2=np.empty(len(decimal_date))\n",
    "\n",
    "#python3 regression_fxns.py\n",
    "#error message:\n",
    "#File \"C:\\Users\\Owner\\AppData\\Local\\Temp/ipykernel_10108/421618586.py\", line 8\n",
    "#    python3 regression_fxns.py\n",
    "#            ^\n",
    "#SyntaxError: invalid syntax\n",
    "\n",
    "def make_standard_units(input_array):\n",
    "    mn_subtracted_array = input_array-np.mean(input_array)\n",
    "    normalized_array = mn_subtracted_array/np.std(input_array)\n",
    "    return normalized_array\n",
    "\n",
    "array1 = make_standard_units(C02)\n",
    "array2 = make_standard_units(decimal_date)\n",
    "\n",
    "\n",
    "def calc_corrcoef_from_standardized_input(array1, array2):\n",
    "    correlation_coefficient = np.mean(array1 * array2)\n",
    "    print(correlation_coefficient)\n",
    "    return correlation_coefficient\n",
    "\n",
    "corr_coef=calc_corrcoef_from_standardized_input(array1, array2)\n",
    "\n",
    "def get_regression_parameters(array3, array4):\n",
    "    ratio_of_sds = np.std(C02)/np.std(decimal_date)\n",
    "    slope = corr_coef * ratio_of_sds\n",
    "    print(slope)\n",
    "    intercept = np.mean(C02) - slope*np.mean(decimal_date)\n",
    "    print(intercept)\n",
    "    regression_array = [slope,intercept]\n",
    "    return regression_array\n",
    "\n",
    "regr_array=get_regression_parameters(C02, decimal_date)\n",
    "\n",
    "# Use the functions in regression_fxns.py to graph a line of best fit on the data\n",
    "# Remember - line of best fit should be extended to 2100\n",
    "plt.scatter(decimal_date,C02)\n",
    "ax2b=plt.gca()\n",
    "ax2b.set_xlabel('Decimal date')\n",
    "ax2b.set_ylabel('CO2')\n",
    "xvls=np.linspace(1960,2100,10)\n",
    "plt.plot(xvls,regr_array[0]*xvls + regr_array[1], 'r')\n",
    "#plt.plot(xvls,slope*xvls + intercept)"
   ]
  },
  {
   "cell_type": "markdown",
   "metadata": {},
   "source": [
    "<!-- END QUESTION -->\n",
    "\n",
    "### Question 2c (6 pts):\n",
    "Based on calculated best-fit line, what would you predict the CO2 level to be in ppm in 2050, in 2100?\n",
    "\n",
    "**Note**: Autograder values used here are not the correct answers, only close to the correct answers. These autograder values should be used as an indicator that you're on the right track, not a 100% guarantee that you've gotten the question right."
   ]
  },
  {
   "cell_type": "code",
   "execution_count": 6,
   "metadata": {
    "tags": []
   },
   "outputs": [
    {
     "name": "stdout",
     "output_type": "stream",
     "text": [
      "452.12507651990063\n",
      "531.7597732768431\n"
     ]
    }
   ],
   "source": [
    "co2_2050 = regr_array[0]*2050 + regr_array[1]\n",
    "print(co2_2050)\n",
    "co2_2100= regr_array[0]*2100 + regr_array[1]\n",
    "print(co2_2100)"
   ]
  },
  {
   "cell_type": "code",
   "execution_count": 7,
   "metadata": {
    "deletable": false,
    "editable": false
   },
   "outputs": [
    {
     "ename": "NameError",
     "evalue": "name 'grader' is not defined",
     "output_type": "error",
     "traceback": [
      "\u001b[1;31m---------------------------------------------------------------------------\u001b[0m",
      "\u001b[1;31mNameError\u001b[0m                                 Traceback (most recent call last)",
      "\u001b[1;32m~\\AppData\\Local\\Temp/ipykernel_11024/2520697620.py\u001b[0m in \u001b[0;36m<module>\u001b[1;34m\u001b[0m\n\u001b[1;32m----> 1\u001b[1;33m \u001b[0mgrader\u001b[0m\u001b[1;33m.\u001b[0m\u001b[0mcheck\u001b[0m\u001b[1;33m(\u001b[0m\u001b[1;34m\"q2c\"\u001b[0m\u001b[1;33m)\u001b[0m\u001b[1;33m\u001b[0m\u001b[1;33m\u001b[0m\u001b[0m\n\u001b[0m",
      "\u001b[1;31mNameError\u001b[0m: name 'grader' is not defined"
     ]
    }
   ],
   "source": [
    "grader.check(\"q2c\")"
   ]
  },
  {
   "cell_type": "markdown",
   "metadata": {},
   "source": [
    "### Question 2d:\n",
    "If you were to fit only based on last 10 years of recorded data, would predicted CO2 levels be higher or lower? Why?"
   ]
  },
  {
   "cell_type": "markdown",
   "metadata": {},
   "source": [
    "I would predict a higher value because the best fit line for 1960 to 2020 is not as good a fit for 2010-2020. I think a parabolic curve would be a better fit to the data. "
   ]
  },
  {
   "cell_type": "markdown",
   "metadata": {},
   "source": [
    "<!-- END QUESTION -->\n",
    "\n"
   ]
  },
  {
   "cell_type": "markdown",
   "metadata": {
    "deletable": false,
    "editable": false
   },
   "source": [
    "---\n",
    "\n",
    "To double-check your work, the cell below will rerun all of the autograder tests."
   ]
  },
  {
   "cell_type": "code",
   "execution_count": null,
   "metadata": {
    "deletable": false,
    "editable": false
   },
   "outputs": [],
   "source": [
    "grader.check_all()"
   ]
  },
  {
   "cell_type": "code",
   "execution_count": null,
   "metadata": {},
   "outputs": [],
   "source": []
  },
  {
   "cell_type": "markdown",
   "metadata": {},
   "source": [
    "# Special Submission Instructions for this assignment:\n",
    "### Rather than uploading .zip file to gradescope, upload your completed `mauna_loa.ipynb` and `regression_fxns.py` files in gradescope folder."
   ]
  },
  {
   "cell_type": "markdown",
   "metadata": {
    "deletable": false,
    "editable": false
   },
   "source": [
    "## Submission\n",
    "\n",
    "Make sure you have run all cells in your notebook in order before running the cell below, so that all images/graphs appear in the output. The cell below will generate a zip file for you to submit. **Please save before exporting!**"
   ]
  },
  {
   "cell_type": "code",
   "execution_count": null,
   "metadata": {
    "deletable": false,
    "editable": false
   },
   "outputs": [],
   "source": [
    "# Save your notebook first, then run this cell to export your submission.\n",
    "grader.export()"
   ]
  },
  {
   "cell_type": "markdown",
   "metadata": {},
   "source": [
    " "
   ]
  }
 ],
 "metadata": {
  "kernelspec": {
   "display_name": "Python 3 (ipykernel)",
   "language": "python",
   "name": "python3"
  },
  "language_info": {
   "codemirror_mode": {
    "name": "ipython",
    "version": 3
   },
   "file_extension": ".py",
   "mimetype": "text/x-python",
   "name": "python",
   "nbconvert_exporter": "python",
   "pygments_lexer": "ipython3",
   "version": "3.9.7"
  },
  "otter": {
   "tests": {
    "q2c": {
     "name": "q2c",
     "points": 6,
     "suites": [
      {
       "cases": [
        {
         "code": ">>> assert np.isclose(co2_2050, 452, rtol = 10)\n",
         "hidden": false,
         "locked": false
        },
        {
         "code": ">>> assert np.isclose(co2_2100, 531, rtol = 10)\n",
         "hidden": false,
         "locked": false
        }
       ],
       "scored": true,
       "setup": "",
       "teardown": "",
       "type": "doctest"
      }
     ]
    }
   }
  }
 },
 "nbformat": 4,
 "nbformat_minor": 4
}
