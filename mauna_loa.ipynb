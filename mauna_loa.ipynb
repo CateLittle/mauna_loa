{
 "cells": [
  {
   "cell_type": "code",
   "execution_count": null,
   "metadata": {
    "deletable": false,
    "editable": false
   },
   "outputs": [],
   "source": [
    "# Initialize Otter\n",
    "import otter\n",
    "grader = otter.Notebook(\"mauna_loa.ipynb\")"
   ]
  },
  {
   "cell_type": "markdown",
   "metadata": {},
   "source": [
    "## Homework 8: Question 2\n",
    "# 52 pts, Due Tuesday March 8 at 11:59pm "
   ]
  },
  {
   "cell_type": "code",
   "execution_count": null,
   "metadata": {},
   "outputs": [],
   "source": [
    "import pandas as pd\n",
    "import matplotlib.pyplot as plt\n",
    "import matplotlib\n",
    "import numpy as np\n",
    "%matplotlib inline"
   ]
  },
  {
   "cell_type": "markdown",
   "metadata": {},
   "source": [
    "## Point Breakdown\n",
    "\n",
    "| **Question #** | **Points**  |\n",
    "| -------------- | :---------: |\n",
    "| Question 0     | 4           |\n",
    "| Question 1     | 35          |\n",
    "| Question 2     | 43          |"
   ]
  },
  {
   "cell_type": "markdown",
   "metadata": {},
   "source": [
    "## Question 1: Making a gh-pages site (8 pts)\n",
    "Instructions to help you through this question can be found on [the class web site](https://bds311.github.io/gh_pages).\n",
    "\n",
    "Please post below a URL to your gh-pages repository (i.e. `https://github.com/github-username/github-username.github.io`), created with gh-pages according to the assignment directions. **Reminder** - the repository should have:\n",
    "1. An `index.md` file that is the homepage for your website\n",
    "2. A second `experience.md` in your repository\n",
    "3. A link in `index.md` that navigates website visitors to the page outlined by your second markdown file.\n",
    "\n",
    "\n",
    "\n"
   ]
  },
  {
   "cell_type": "markdown",
   "metadata": {},
   "source": [
    "_Type your answer here, replacing this text._"
   ]
  },
  {
   "cell_type": "markdown",
   "metadata": {},
   "source": [
    "<!-- END QUESTION -->\n",
    "\n",
    "### Question 2a (6 pts):\n",
    "Read `mauna_loa.csv` into Pandas as a dataframe and make a scatter plot of C02 over time using the `C02` and `decimal_date` columns."
   ]
  },
  {
   "cell_type": "markdown",
   "metadata": {},
   "source": [
    "<!-- BEGIN QUESTION -->\n",
    "\n"
   ]
  },
  {
   "cell_type": "code",
   "execution_count": null,
   "metadata": {
    "tags": []
   },
   "outputs": [],
   "source": [
    "..."
   ]
  },
  {
   "cell_type": "markdown",
   "metadata": {},
   "source": [
    "<!-- END QUESTION -->\n",
    "\n",
    "### Question 2b (12 pts):\n",
    "In `regression_fxns.py` file, complete the following three provided function definitions:\n",
    "\n",
    "```\n",
    "def make_standard_units(input_array):\n",
    "    Converts input_array to standard_units, where data has mean 0 and standard deviation of 1\n",
    "        INPUT: data array\n",
    "        OUTPUT: array in standard units\n",
    "    \n",
    "def calc_corrcoef_from_standardized_input(array1,array2):\n",
    "    Calculates Pearson correlation coefficient from two arrays in standard units\n",
    "    INPUT: array1, array2: In standard units\n",
    "    OUTPUT: Pearson correlation coefficient\n",
    "\n",
    "def get_regression_parameters(array1, array2):\n",
    "    Calculates regression parameters from two input arrays\n",
    "    INPUT: array1, array2: two data arrays\n",
    "    OUTPUT: regression_array, length 2: regression_array[0] is slope and regression_array[1] is intercept'''\n",
    "```\n",
    "The import regression_fxns below and use these methods to plot a predicted linear regression for the data above. Extend your fit line to 2100.\n",
    "\n",
    "Remember that the slope of the regression line is `correlation_coefficient * (sd(y)/sd(x))`.\n",
    "The intercept can be calculated from the equation of a line using the mean of the data and the slopes `meany = slope * meanx + intercept`\n",
    "\n",
    "**NOTE**: If you import your `regression_fxns.py` file and then make changes to the file, <u><em>you must restart your kernel (and re-import the file) for the changes to take effect</em></u>"
   ]
  },
  {
   "cell_type": "markdown",
   "metadata": {},
   "source": [
    "<!-- BEGIN QUESTION -->\n",
    "\n"
   ]
  },
  {
   "cell_type": "code",
   "execution_count": null,
   "metadata": {
    "tags": []
   },
   "outputs": [],
   "source": [
    "# Import regression functions\n",
    "...\n",
    "\n",
    "# User the functions in regression_fxns.py to graph a line of best fit on the data\n",
    "# Remember - line of best fit should be extended to 2100\n",
    "..."
   ]
  },
  {
   "cell_type": "markdown",
   "metadata": {},
   "source": [
    "<!-- END QUESTION -->\n",
    "\n",
    "### Question 2c (6 pts):\n",
    "Based on calculated best-fit line, what would you predict the CO2 level to be in ppm in 2050, in 2100?\n",
    "\n",
    "**Note**: Autograder values used here are not the correct answers, only close to the correct answers. These autograder values should be used as an indicator that you're on the right track, not a 100% guarantee that you've gotten the question right."
   ]
  },
  {
   "cell_type": "code",
   "execution_count": null,
   "metadata": {
    "tags": []
   },
   "outputs": [],
   "source": [
    "co2_2050 = ...\n",
    "print(co2_2050)\n",
    "co2_2100= ...\n",
    "print(co2_2100)"
   ]
  },
  {
   "cell_type": "code",
   "execution_count": null,
   "metadata": {
    "deletable": false,
    "editable": false
   },
   "outputs": [],
   "source": [
    "grader.check(\"q2c\")"
   ]
  },
  {
   "cell_type": "markdown",
   "metadata": {},
   "source": [
    "### Question 2d:\n",
    "If you were to fit only based on last 10 years of recorded data, would predicted CO2 levels be higher or lower? Why?"
   ]
  },
  {
   "cell_type": "markdown",
   "metadata": {},
   "source": [
    "_Type your answer here, replacing this text._"
   ]
  },
  {
   "cell_type": "markdown",
   "metadata": {},
   "source": [
    "<!-- END QUESTION -->\n",
    "\n"
   ]
  },
  {
   "cell_type": "markdown",
   "metadata": {
    "deletable": false,
    "editable": false
   },
   "source": [
    "---\n",
    "\n",
    "To double-check your work, the cell below will rerun all of the autograder tests."
   ]
  },
  {
   "cell_type": "code",
   "execution_count": null,
   "metadata": {
    "deletable": false,
    "editable": false
   },
   "outputs": [],
   "source": [
    "grader.check_all()"
   ]
  },
  {
   "cell_type": "code",
   "execution_count": null,
   "metadata": {},
   "outputs": [],
   "source": []
  },
  {
   "cell_type": "markdown",
   "metadata": {},
   "source": [
    "# Special Submission Instructions for this assignment:\n",
    "### Rather than uploading .zip file to gradescope, upload your completed `mauna_loa.ipynb` and `regression_fxns.py` files in gradescope folder."
   ]
  },
  {
   "cell_type": "markdown",
   "metadata": {
    "deletable": false,
    "editable": false
   },
   "source": [
    "## Submission\n",
    "\n",
    "Make sure you have run all cells in your notebook in order before running the cell below, so that all images/graphs appear in the output. The cell below will generate a zip file for you to submit. **Please save before exporting!**"
   ]
  },
  {
   "cell_type": "code",
   "execution_count": null,
   "metadata": {
    "deletable": false,
    "editable": false
   },
   "outputs": [],
   "source": [
    "# Save your notebook first, then run this cell to export your submission.\n",
    "grader.export()"
   ]
  },
  {
   "cell_type": "markdown",
   "metadata": {},
   "source": [
    " "
   ]
  }
 ],
 "metadata": {
  "kernelspec": {
   "display_name": "Python 3",
   "language": "python",
   "name": "python3"
  },
  "language_info": {
   "codemirror_mode": {
    "name": "ipython",
    "version": 3
   },
   "file_extension": ".py",
   "mimetype": "text/x-python",
   "name": "python",
   "nbconvert_exporter": "python",
   "pygments_lexer": "ipython3",
   "version": "3.7.1"
  },
  "otter": {
   "tests": {
    "q2c": {
     "name": "q2c",
     "points": 6,
     "suites": [
      {
       "cases": [
        {
         "code": ">>> assert np.isclose(co2_2050, 452, rtol = 10)\n",
         "hidden": false,
         "locked": false
        },
        {
         "code": ">>> assert np.isclose(co2_2100, 531, rtol = 10)\n",
         "hidden": false,
         "locked": false
        }
       ],
       "scored": true,
       "setup": "",
       "teardown": "",
       "type": "doctest"
      }
     ]
    }
   }
  }
 },
 "nbformat": 4,
 "nbformat_minor": 4
}
